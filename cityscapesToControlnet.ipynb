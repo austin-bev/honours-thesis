{
 "cells": [
  {
   "cell_type": "code",
   "execution_count": 1,
   "metadata": {},
   "outputs": [],
   "source": [
    "cityscapes_to_controlnet_mapping = {\n",
    " (128, 64, 128): (140, 140, 140),  # road -> road\n",
    " (244, 35, 232): (235, 255, 7),  # sidewalk -> sidewalk\n",
    " (70, 70, 70): (180, 120, 120),  # building -> building\n",
    " (102, 102, 156): (120, 120, 120),  # wall -> wall\n",
    " (190, 153, 153): (255, 184, 6),  # fence -> fence\n",
    " (153, 153, 153): (51, 0, 255),  # pole -> pole\n",
    " (250, 170, 30): (41, 0, 255),  # traffic light -> traffic light\n",
    " (220, 220, 0): (255, 5, 153),  # traffic sign -> traffic sign\n",
    " (107, 142, 35): (4, 200, 3),  # vegetation -> tree\n",
    " (152, 251, 152): (4, 250, 7),  # terrain -> grass\n",
    " (70, 130, 180): (6, 230, 230),  # sky -> sky\n",
    " (220, 20, 60): (150, 5, 61),  # person -> person\n",
    " (255, 0, 0): (150, 5, 61),  # rider -> person !!!\n",
    " (0, 0, 142): (0, 102, 200),  # car -> car\n",
    " (0, 0, 70): (255, 0, 20),  # truck -> truck\n",
    " (0, 60, 100): (255, 0, 245),  # bus -> bus\n",
    " (0, 80, 100): (255, 0, 245),  # train -> bus !!!\n",
    " (0, 0, 230): (163, 0, 255),  # motorcycle -> motorcycle\n",
    " (119, 11, 32): (255, 245, 0)}  # bicycle -> bicycle\n"
   ]
  },
  {
   "cell_type": "code",
   "execution_count": null,
   "metadata": {},
   "outputs": [],
   "source": [
    "from PIL import Image\n",
    "\n",
    "# Load the input image\n",
    "input_image = Image.open(\"bochum_000000_004748_gtFine_color.png\")  # Replace \"input_image.png\" with your image file path\n",
    "\n",
    "# Convert the image to RGB mode if it's not already\n",
    "if input_image.mode != \"RGB\":\n",
    "    input_image = input_image.convert(\"RGB\")\n",
    "\n",
    "# Create a new image with the same size\n",
    "output_image = Image.new(\"RGB\", input_image.size)\n",
    "\n",
    "# Process each pixel in the input image and replace colors\n",
    "for x in range(input_image.width):\n",
    "    for y in range(input_image.height):\n",
    "        pixel_color = input_image.getpixel((x, y))\n",
    "        new_color = cityscapes_to_controlnet_mapping.get(pixel_color, pixel_color)\n",
    "        output_image.putpixel((x, y), new_color)\n",
    "\n",
    "# Save the modified image\n",
    "output_image.save(\"output_image.png\")  # Replace \"output_image.png\" with your desired output file path\n",
    "\n",
    "print(\"Image processing complete. Saved as output_image.png\")\n"
   ]
  },
  {
   "cell_type": "code",
   "execution_count": 9,
   "metadata": {},
   "outputs": [],
   "source": [
    "import os\n",
    "from PIL import Image\n",
    "\n",
    "# Path to the folder containing prediction masks and ground truth masks\n",
    "#prediction_folder = '../../../../../mnt/data/cityscapes/gtFine/val/frankfurt/'\n",
    "prediction_folder = '../experimentation/results_output/segformeradk/frankfurt/'\n",
    "\n",
    "# List all image files in the folders\n",
    "prediction_files = os.listdir(prediction_folder)\n",
    "\n",
    "for i, filename in enumerate(prediction_files):\n",
    "\n",
    "    #if \"color\" not in filename:\n",
    "    #    continue\n",
    "    \n",
    "    input_image = Image.open(os.path.join(prediction_folder, filename))\n",
    "\n",
    "    # Convert the image to RGB mode if it's not already\n",
    "    if input_image.mode != \"RGB\":\n",
    "        input_image = input_image.convert(\"RGB\")\n",
    "\n",
    "    # Create a new image with the same size\n",
    "    output_image = Image.new(\"RGB\", input_image.size)\n",
    "\n",
    "    # Process each pixel in the input image and replace colors\n",
    "    for x in range(input_image.width):\n",
    "        for y in range(input_image.height):\n",
    "            pixel_color = input_image.getpixel((x, y))\n",
    "            new_color = cityscapes_to_controlnet_mapping.get(pixel_color, pixel_color)\n",
    "            output_image.putpixel((x, y), new_color)\n",
    "    # Save the modified image\n",
    "    output_image.save(f\"./val_images/new_{filename}\")  "
   ]
  }
 ],
 "metadata": {
  "kernelspec": {
   "display_name": "openmmlab",
   "language": "python",
   "name": "python3"
  },
  "language_info": {
   "codemirror_mode": {
    "name": "ipython",
    "version": 3
   },
   "file_extension": ".py",
   "mimetype": "text/x-python",
   "name": "python",
   "nbconvert_exporter": "python",
   "pygments_lexer": "ipython3",
   "version": "3.8.16"
  },
  "orig_nbformat": 4
 },
 "nbformat": 4,
 "nbformat_minor": 2
}
