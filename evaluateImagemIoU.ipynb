{
 "cells": [
  {
   "cell_type": "code",
   "execution_count": 15,
   "metadata": {},
   "outputs": [],
   "source": [
    "import os\n",
    "import cv2\n",
    "import numpy as np\n",
    "from collections import Counter\n",
    "\n",
    "# Function to calculate IoU\n",
    "def calculate_iou_class(pred_mask, gt_mask, class_id):\n",
    "    pred_class = (pred_mask == class_id)\n",
    "    gt_class = (gt_mask == class_id)\n",
    "    intersection = np.logical_and(pred_class, gt_class)\n",
    "    union = np.logical_or(pred_class, gt_class)\n",
    "    iou = np.sum(intersection) / np.sum(union)\n",
    "    #print(f\"Accuracy of {class_id}: {iou}\")\n",
    "    return iou\n",
    "\n",
    "def calculate_acc(pred_mask, gt_mask):\n",
    "    acc = np.sum(pred_mask == gt_mask)\n",
    "    total = pred_mask.size\n",
    "    return acc / total"
   ]
  },
  {
   "cell_type": "code",
   "execution_count": 16,
   "metadata": {},
   "outputs": [],
   "source": [
    "def calculate_result(pred_mask, gt_mask, labels, file_desc):\n",
    "    iou_values = np.empty(len(labels))  \n",
    "    if pred_mask.shape != gt_mask.shape:\n",
    "        print(f\"Error: Image sizes do not match\")\n",
    "        return\n",
    "\n",
    "    # Calculate IoU for each class\n",
    "    for ii, class_id in enumerate(labels):\n",
    "        iou = calculate_iou_class(pred_mask, gt_mask, class_id)\n",
    "        iou_values[ii] = iou\n",
    "        acc = calculate_acc(pred_mask, gt_mask)\n",
    "    return (np.mean(iou_values), file_desc, acc)"
   ]
  },
  {
   "cell_type": "code",
   "execution_count": 17,
   "metadata": {},
   "outputs": [
    {
     "name": "stdout",
     "output_type": "stream",
     "text": [
      "dict_keys([3, 2, 11, 23, 17, 4, 20, 21, 26, 24, 13, 8, 7, 1])\n",
      "[7, 8, 11, 13, 17, 20, 21, 23, 24, 26]\n"
     ]
    }
   ],
   "source": [
    "import os\n",
    "# Path to the folder containing prediction masks and ground truth masks\n",
    "prediction_folder = '../experimentation/results_output/controlnet_new/'\n",
    "ground_truth = '../../../../../../mnt/data/cityscapes/gtFine/val/frankfurt/frankfurt_000000_000294_gtFine_labelIds.png'\n",
    "model_prediction = '../experimentation/results_output/frankfurt_000000_000294_leftImg8bit.png'\n",
    "\n",
    "#ground_truth = './results_check/configs/segformer/frankfurt/frankfurt_000000_000294_leftImg8bit.png'\n",
    "\n",
    "# List all image files in the folders\n",
    "prediction_files = os.listdir(prediction_folder)\n",
    "\n",
    "# Find corresponding ground truth mask\n",
    "image_mask = cv2.imread(ground_truth, cv2.IMREAD_GRAYSCALE)\n",
    "\n",
    "print(Counter(image_mask.flatten()).keys())\n",
    "classes = set(Counter(image_mask.flatten()).keys())  # Find all classes to test\n",
    "ignore = {0,1,2,3,4,5,6,9,10,14,15,16,18,29,30,-1}\n",
    "new_classes = list(classes - ignore)\n",
    "print(new_classes)\n",
    "\n",
    "\n",
    "#Prompt test\n",
    "x = [' Depth ' + str(i) for i in [0,0.5,1,1.5,2]]\n",
    "y = [' Canny ' + str(i) for i in [0,0.5,1,1.5,2]]\n",
    "\n",
    "#Denoising Test (Also used for model tests)\n",
    "#x = ['CFG 5.0', 'CFG 7.0', 'CFG 10.0', 'CFG 12.0', 'CFG 15.0']\n",
    "#y = [0.3,0.4,0.5]\n",
    "\n",
    "#Seed Test\n",
    "#x = [f\"Seed {i+1}\" for i in range(10)]\n",
    "#y = [\"CFG 5\", \"CFG 10\"]"
   ]
  },
  {
   "cell_type": "code",
   "execution_count": 18,
   "metadata": {},
   "outputs": [
    {
     "name": "stdout",
     "output_type": "stream",
     "text": [
      "IoU: 1.0000 Acc: 1.0000 File: Model prediction\n",
      "IoU: 0.7070 Acc: 0.9560 File:  Depth 0  Canny 0\n",
      "IoU: 0.6756 Acc: 0.9611 File:  Depth 0.5  Canny 0\n",
      "IoU: 0.7174 Acc: 0.9597 File:  Depth 1  Canny 0\n",
      "IoU: 0.7216 Acc: 0.9622 File:  Depth 1.5  Canny 0\n",
      "IoU: 0.6211 Acc: 0.9400 File:  Depth 2  Canny 0\n",
      "IoU: 0.7208 Acc: 0.9633 File:  Depth 0  Canny 0.5\n",
      "IoU: 0.6397 Acc: 0.9330 File:  Depth 0.5  Canny 0.5\n",
      "IoU: 0.6185 Acc: 0.9240 File:  Depth 1  Canny 0.5\n",
      "IoU: 0.7384 Acc: 0.9630 File:  Depth 1.5  Canny 0.5\n",
      "IoU: 0.6546 Acc: 0.9576 File:  Depth 2  Canny 0.5\n",
      "IoU: 0.6914 Acc: 0.9513 File:  Depth 0  Canny 1\n",
      "IoU: 0.6696 Acc: 0.9414 File:  Depth 0.5  Canny 1\n",
      "IoU: 0.6529 Acc: 0.9588 File:  Depth 1  Canny 1\n",
      "IoU: 0.6528 Acc: 0.9596 File:  Depth 1.5  Canny 1\n",
      "IoU: 0.7013 Acc: 0.9638 File:  Depth 2  Canny 1\n",
      "IoU: 0.6504 Acc: 0.9579 File:  Depth 0  Canny 1.5\n",
      "IoU: 0.6432 Acc: 0.9563 File:  Depth 0.5  Canny 1.5\n",
      "IoU: 0.6659 Acc: 0.9454 File:  Depth 1  Canny 1.5\n",
      "IoU: 0.5420 Acc: 0.9140 File:  Depth 1.5  Canny 1.5\n",
      "IoU: 0.6974 Acc: 0.9615 File:  Depth 2  Canny 1.5\n",
      "IoU: 0.7361 Acc: 0.9657 File:  Depth 0  Canny 2\n",
      "IoU: 0.6666 Acc: 0.9400 File:  Depth 0.5  Canny 2\n",
      "IoU: 0.7393 Acc: 0.9626 File:  Depth 1  Canny 2\n",
      "IoU: 0.6832 Acc: 0.9631 File:  Depth 1.5  Canny 2\n",
      "IoU: 0.6883 Acc: 0.9472 File:  Depth 2  Canny 2\n"
     ]
    }
   ],
   "source": [
    "import re\n",
    "results = []\n",
    "\n",
    "model_mask = cv2.imread(model_prediction, cv2.IMREAD_GRAYSCALE)\n",
    "results.append(calculate_result(model_mask, model_mask, new_classes, \"Model prediction\"))\n",
    "\n",
    "for i, pred_file in enumerate(prediction_files):\n",
    "    pred_mask = cv2.imread(os.path.join(prediction_folder, pred_file), cv2.IMREAD_GRAYSCALE)\n",
    "    results.append(calculate_result(pred_mask, model_mask, new_classes, f'{x[i % len(x)]} {y[i // len(x)]}'))\n",
    "    #results.append(calculate_result(pred_mask, model_mask, new_classes, f'{pred_file}'))  \n",
    " \n",
    "#results.sort()\n",
    "for i in results:\n",
    "    print(f\"IoU: {i[0]:.4f} Acc: {i[2]:.4f} File: {i[1]}\")"
   ]
  }
 ],
 "metadata": {
  "kernelspec": {
   "display_name": "openmmlab",
   "language": "python",
   "name": "python3"
  },
  "language_info": {
   "codemirror_mode": {
    "name": "ipython",
    "version": 3
   },
   "file_extension": ".py",
   "mimetype": "text/x-python",
   "name": "python",
   "nbconvert_exporter": "python",
   "pygments_lexer": "ipython3",
   "version": "3.8.16"
  }
 },
 "nbformat": 4,
 "nbformat_minor": 2
}
